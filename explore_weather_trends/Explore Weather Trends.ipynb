{
 "cells": [
  {
   "cell_type": "markdown",
   "metadata": {},
   "source": [
    "# Project Outline\n",
    "\n",
    "In this project, we will analyze local and global temperature data and compare the temperature trends where I live to overall global temperature trends.\n",
    "\n",
    "What tools were used for each step?\n",
    "* SQL for data extraction\n",
    "* Python and Jupyter Notebook for data wrangling and analysis\n",
    "\n",
    "How did you calculate the moving average?\n",
    "* Used df.rolling().mean() to perform a rolling calculation with the window set as 7 (for a 7 periods moving average)\n",
    "* \n",
    " \n",
    " \n",
    "## 1) Extracting the data\n",
    "\n",
    "### Query to extract city data:\n",
    "\n",
    "SELECT year, city, country, avg_temp\n",
    "\n",
    "FROM city_data\n",
    "\n",
    "WHERE city = 'Rio De Janeiro';\n",
    "\n",
    "\n",
    "### Query to extract global data:\n",
    "\n",
    "SELECT year, avg_temp\n",
    "\n",
    "FROM global_data;"
   ]
  },
  {
   "cell_type": "markdown",
   "metadata": {},
   "source": [
    "## 2) Open Up The CSVs:"
   ]
  },
  {
   "cell_type": "code",
   "execution_count": 217,
   "metadata": {},
   "outputs": [],
   "source": [
    "# Imports\n",
    "import numpy as np\n",
    "import pandas as pd\n",
    "from matplotlib import pyplot as plt\n",
    "import seaborn as sns\n",
    "import missingno\n",
    "\n",
    "# Configurations\n",
    "%matplotlib inline\n",
    "sns.set_theme()"
   ]
  },
  {
   "cell_type": "code",
   "execution_count": 199,
   "metadata": {},
   "outputs": [
    {
     "data": {
      "text/html": [
       "<div>\n",
       "<style scoped>\n",
       "    .dataframe tbody tr th:only-of-type {\n",
       "        vertical-align: middle;\n",
       "    }\n",
       "\n",
       "    .dataframe tbody tr th {\n",
       "        vertical-align: top;\n",
       "    }\n",
       "\n",
       "    .dataframe thead th {\n",
       "        text-align: right;\n",
       "    }\n",
       "</style>\n",
       "<table border=\"1\" class=\"dataframe\">\n",
       "  <thead>\n",
       "    <tr style=\"text-align: right;\">\n",
       "      <th></th>\n",
       "      <th>year</th>\n",
       "      <th>city</th>\n",
       "      <th>country</th>\n",
       "      <th>city_avg_temp</th>\n",
       "    </tr>\n",
       "  </thead>\n",
       "  <tbody>\n",
       "    <tr>\n",
       "      <th>0</th>\n",
       "      <td>1832</td>\n",
       "      <td>Rio De Janeiro</td>\n",
       "      <td>Brazil</td>\n",
       "      <td>23.05</td>\n",
       "    </tr>\n",
       "    <tr>\n",
       "      <th>1</th>\n",
       "      <td>1833</td>\n",
       "      <td>Rio De Janeiro</td>\n",
       "      <td>Brazil</td>\n",
       "      <td>24.11</td>\n",
       "    </tr>\n",
       "    <tr>\n",
       "      <th>2</th>\n",
       "      <td>1834</td>\n",
       "      <td>Rio De Janeiro</td>\n",
       "      <td>Brazil</td>\n",
       "      <td>23.27</td>\n",
       "    </tr>\n",
       "    <tr>\n",
       "      <th>3</th>\n",
       "      <td>1835</td>\n",
       "      <td>Rio De Janeiro</td>\n",
       "      <td>Brazil</td>\n",
       "      <td>22.73</td>\n",
       "    </tr>\n",
       "    <tr>\n",
       "      <th>4</th>\n",
       "      <td>1836</td>\n",
       "      <td>Rio De Janeiro</td>\n",
       "      <td>Brazil</td>\n",
       "      <td>22.91</td>\n",
       "    </tr>\n",
       "    <tr>\n",
       "      <th>...</th>\n",
       "      <td>...</td>\n",
       "      <td>...</td>\n",
       "      <td>...</td>\n",
       "      <td>...</td>\n",
       "    </tr>\n",
       "    <tr>\n",
       "      <th>177</th>\n",
       "      <td>2009</td>\n",
       "      <td>Rio De Janeiro</td>\n",
       "      <td>Brazil</td>\n",
       "      <td>24.98</td>\n",
       "    </tr>\n",
       "    <tr>\n",
       "      <th>178</th>\n",
       "      <td>2010</td>\n",
       "      <td>Rio De Janeiro</td>\n",
       "      <td>Brazil</td>\n",
       "      <td>24.95</td>\n",
       "    </tr>\n",
       "    <tr>\n",
       "      <th>179</th>\n",
       "      <td>2011</td>\n",
       "      <td>Rio De Janeiro</td>\n",
       "      <td>Brazil</td>\n",
       "      <td>24.32</td>\n",
       "    </tr>\n",
       "    <tr>\n",
       "      <th>180</th>\n",
       "      <td>2012</td>\n",
       "      <td>Rio De Janeiro</td>\n",
       "      <td>Brazil</td>\n",
       "      <td>24.84</td>\n",
       "    </tr>\n",
       "    <tr>\n",
       "      <th>181</th>\n",
       "      <td>2013</td>\n",
       "      <td>Rio De Janeiro</td>\n",
       "      <td>Brazil</td>\n",
       "      <td>25.19</td>\n",
       "    </tr>\n",
       "  </tbody>\n",
       "</table>\n",
       "<p>182 rows × 4 columns</p>\n",
       "</div>"
      ],
      "text/plain": [
       "     year            city country  city_avg_temp\n",
       "0    1832  Rio De Janeiro  Brazil          23.05\n",
       "1    1833  Rio De Janeiro  Brazil          24.11\n",
       "2    1834  Rio De Janeiro  Brazil          23.27\n",
       "3    1835  Rio De Janeiro  Brazil          22.73\n",
       "4    1836  Rio De Janeiro  Brazil          22.91\n",
       "..    ...             ...     ...            ...\n",
       "177  2009  Rio De Janeiro  Brazil          24.98\n",
       "178  2010  Rio De Janeiro  Brazil          24.95\n",
       "179  2011  Rio De Janeiro  Brazil          24.32\n",
       "180  2012  Rio De Janeiro  Brazil          24.84\n",
       "181  2013  Rio De Janeiro  Brazil          25.19\n",
       "\n",
       "[182 rows x 4 columns]"
      ]
     },
     "execution_count": 199,
     "metadata": {},
     "output_type": "execute_result"
    }
   ],
   "source": [
    "# Loading city data\n",
    "city = pd.read_csv('city_data.csv')\n",
    "city.columns = ['year', 'city', 'country', 'city_avg_temp']\n",
    "city"
   ]
  },
  {
   "cell_type": "code",
   "execution_count": 200,
   "metadata": {},
   "outputs": [
    {
     "data": {
      "text/html": [
       "<div>\n",
       "<style scoped>\n",
       "    .dataframe tbody tr th:only-of-type {\n",
       "        vertical-align: middle;\n",
       "    }\n",
       "\n",
       "    .dataframe tbody tr th {\n",
       "        vertical-align: top;\n",
       "    }\n",
       "\n",
       "    .dataframe thead th {\n",
       "        text-align: right;\n",
       "    }\n",
       "</style>\n",
       "<table border=\"1\" class=\"dataframe\">\n",
       "  <thead>\n",
       "    <tr style=\"text-align: right;\">\n",
       "      <th></th>\n",
       "      <th>year</th>\n",
       "      <th>world_avg_temp</th>\n",
       "    </tr>\n",
       "  </thead>\n",
       "  <tbody>\n",
       "    <tr>\n",
       "      <th>0</th>\n",
       "      <td>1750</td>\n",
       "      <td>8.72</td>\n",
       "    </tr>\n",
       "    <tr>\n",
       "      <th>1</th>\n",
       "      <td>1751</td>\n",
       "      <td>7.98</td>\n",
       "    </tr>\n",
       "    <tr>\n",
       "      <th>2</th>\n",
       "      <td>1752</td>\n",
       "      <td>5.78</td>\n",
       "    </tr>\n",
       "    <tr>\n",
       "      <th>3</th>\n",
       "      <td>1753</td>\n",
       "      <td>8.39</td>\n",
       "    </tr>\n",
       "    <tr>\n",
       "      <th>4</th>\n",
       "      <td>1754</td>\n",
       "      <td>8.47</td>\n",
       "    </tr>\n",
       "    <tr>\n",
       "      <th>...</th>\n",
       "      <td>...</td>\n",
       "      <td>...</td>\n",
       "    </tr>\n",
       "    <tr>\n",
       "      <th>261</th>\n",
       "      <td>2011</td>\n",
       "      <td>9.52</td>\n",
       "    </tr>\n",
       "    <tr>\n",
       "      <th>262</th>\n",
       "      <td>2012</td>\n",
       "      <td>9.51</td>\n",
       "    </tr>\n",
       "    <tr>\n",
       "      <th>263</th>\n",
       "      <td>2013</td>\n",
       "      <td>9.61</td>\n",
       "    </tr>\n",
       "    <tr>\n",
       "      <th>264</th>\n",
       "      <td>2014</td>\n",
       "      <td>9.57</td>\n",
       "    </tr>\n",
       "    <tr>\n",
       "      <th>265</th>\n",
       "      <td>2015</td>\n",
       "      <td>9.83</td>\n",
       "    </tr>\n",
       "  </tbody>\n",
       "</table>\n",
       "<p>266 rows × 2 columns</p>\n",
       "</div>"
      ],
      "text/plain": [
       "     year  world_avg_temp\n",
       "0    1750            8.72\n",
       "1    1751            7.98\n",
       "2    1752            5.78\n",
       "3    1753            8.39\n",
       "4    1754            8.47\n",
       "..    ...             ...\n",
       "261  2011            9.52\n",
       "262  2012            9.51\n",
       "263  2013            9.61\n",
       "264  2014            9.57\n",
       "265  2015            9.83\n",
       "\n",
       "[266 rows x 2 columns]"
      ]
     },
     "execution_count": 200,
     "metadata": {},
     "output_type": "execute_result"
    }
   ],
   "source": [
    "# Loading city data\n",
    "world = pd.read_csv('global_data.csv')\n",
    "\n",
    "# Renaming world dataframe columns for merging\n",
    "world.columns = ['year','world_avg_temp']\n",
    "world"
   ]
  },
  {
   "cell_type": "code",
   "execution_count": 201,
   "metadata": {},
   "outputs": [],
   "source": [
    "# Merging dataframes\n",
    "df = city.merge(world, on='year')"
   ]
  },
  {
   "cell_type": "markdown",
   "metadata": {},
   "source": [
    "## 3) Calculating the 7 period moving averages"
   ]
  },
  {
   "cell_type": "code",
   "execution_count": 202,
   "metadata": {},
   "outputs": [
    {
     "data": {
      "text/html": [
       "<div>\n",
       "<style scoped>\n",
       "    .dataframe tbody tr th:only-of-type {\n",
       "        vertical-align: middle;\n",
       "    }\n",
       "\n",
       "    .dataframe tbody tr th {\n",
       "        vertical-align: top;\n",
       "    }\n",
       "\n",
       "    .dataframe thead th {\n",
       "        text-align: right;\n",
       "    }\n",
       "</style>\n",
       "<table border=\"1\" class=\"dataframe\">\n",
       "  <thead>\n",
       "    <tr style=\"text-align: right;\">\n",
       "      <th></th>\n",
       "      <th>year</th>\n",
       "      <th>city</th>\n",
       "      <th>country</th>\n",
       "      <th>city_avg_temp</th>\n",
       "      <th>world_avg_temp</th>\n",
       "    </tr>\n",
       "  </thead>\n",
       "  <tbody>\n",
       "    <tr>\n",
       "      <th>0</th>\n",
       "      <td>1832</td>\n",
       "      <td>Rio De Janeiro</td>\n",
       "      <td>Brazil</td>\n",
       "      <td>23.05</td>\n",
       "      <td>7.45</td>\n",
       "    </tr>\n",
       "    <tr>\n",
       "      <th>1</th>\n",
       "      <td>1833</td>\n",
       "      <td>Rio De Janeiro</td>\n",
       "      <td>Brazil</td>\n",
       "      <td>24.11</td>\n",
       "      <td>8.01</td>\n",
       "    </tr>\n",
       "    <tr>\n",
       "      <th>2</th>\n",
       "      <td>1834</td>\n",
       "      <td>Rio De Janeiro</td>\n",
       "      <td>Brazil</td>\n",
       "      <td>23.27</td>\n",
       "      <td>8.15</td>\n",
       "    </tr>\n",
       "    <tr>\n",
       "      <th>3</th>\n",
       "      <td>1835</td>\n",
       "      <td>Rio De Janeiro</td>\n",
       "      <td>Brazil</td>\n",
       "      <td>22.73</td>\n",
       "      <td>7.39</td>\n",
       "    </tr>\n",
       "    <tr>\n",
       "      <th>4</th>\n",
       "      <td>1836</td>\n",
       "      <td>Rio De Janeiro</td>\n",
       "      <td>Brazil</td>\n",
       "      <td>22.91</td>\n",
       "      <td>7.70</td>\n",
       "    </tr>\n",
       "    <tr>\n",
       "      <th>...</th>\n",
       "      <td>...</td>\n",
       "      <td>...</td>\n",
       "      <td>...</td>\n",
       "      <td>...</td>\n",
       "      <td>...</td>\n",
       "    </tr>\n",
       "    <tr>\n",
       "      <th>177</th>\n",
       "      <td>2009</td>\n",
       "      <td>Rio De Janeiro</td>\n",
       "      <td>Brazil</td>\n",
       "      <td>24.98</td>\n",
       "      <td>9.51</td>\n",
       "    </tr>\n",
       "    <tr>\n",
       "      <th>178</th>\n",
       "      <td>2010</td>\n",
       "      <td>Rio De Janeiro</td>\n",
       "      <td>Brazil</td>\n",
       "      <td>24.95</td>\n",
       "      <td>9.70</td>\n",
       "    </tr>\n",
       "    <tr>\n",
       "      <th>179</th>\n",
       "      <td>2011</td>\n",
       "      <td>Rio De Janeiro</td>\n",
       "      <td>Brazil</td>\n",
       "      <td>24.32</td>\n",
       "      <td>9.52</td>\n",
       "    </tr>\n",
       "    <tr>\n",
       "      <th>180</th>\n",
       "      <td>2012</td>\n",
       "      <td>Rio De Janeiro</td>\n",
       "      <td>Brazil</td>\n",
       "      <td>24.84</td>\n",
       "      <td>9.51</td>\n",
       "    </tr>\n",
       "    <tr>\n",
       "      <th>181</th>\n",
       "      <td>2013</td>\n",
       "      <td>Rio De Janeiro</td>\n",
       "      <td>Brazil</td>\n",
       "      <td>25.19</td>\n",
       "      <td>9.61</td>\n",
       "    </tr>\n",
       "  </tbody>\n",
       "</table>\n",
       "<p>182 rows × 5 columns</p>\n",
       "</div>"
      ],
      "text/plain": [
       "     year            city country  city_avg_temp  world_avg_temp\n",
       "0    1832  Rio De Janeiro  Brazil          23.05            7.45\n",
       "1    1833  Rio De Janeiro  Brazil          24.11            8.01\n",
       "2    1834  Rio De Janeiro  Brazil          23.27            8.15\n",
       "3    1835  Rio De Janeiro  Brazil          22.73            7.39\n",
       "4    1836  Rio De Janeiro  Brazil          22.91            7.70\n",
       "..    ...             ...     ...            ...             ...\n",
       "177  2009  Rio De Janeiro  Brazil          24.98            9.51\n",
       "178  2010  Rio De Janeiro  Brazil          24.95            9.70\n",
       "179  2011  Rio De Janeiro  Brazil          24.32            9.52\n",
       "180  2012  Rio De Janeiro  Brazil          24.84            9.51\n",
       "181  2013  Rio De Janeiro  Brazil          25.19            9.61\n",
       "\n",
       "[182 rows x 5 columns]"
      ]
     },
     "execution_count": 202,
     "metadata": {},
     "output_type": "execute_result"
    }
   ],
   "source": [
    "df"
   ]
  },
  {
   "cell_type": "code",
   "execution_count": 203,
   "metadata": {},
   "outputs": [
    {
     "name": "stdout",
     "output_type": "stream",
     "text": [
      "<class 'pandas.core.frame.DataFrame'>\n",
      "Int64Index: 182 entries, 0 to 181\n",
      "Data columns (total 5 columns):\n",
      " #   Column          Non-Null Count  Dtype  \n",
      "---  ------          --------------  -----  \n",
      " 0   year            182 non-null    int64  \n",
      " 1   city            182 non-null    object \n",
      " 2   country         182 non-null    object \n",
      " 3   city_avg_temp   175 non-null    float64\n",
      " 4   world_avg_temp  182 non-null    float64\n",
      "dtypes: float64(2), int64(1), object(2)\n",
      "memory usage: 8.5+ KB\n"
     ]
    }
   ],
   "source": [
    "# First we will look for missing values and fill them\n",
    "df.info()"
   ]
  },
  {
   "cell_type": "code",
   "execution_count": 204,
   "metadata": {},
   "outputs": [
    {
     "data": {
      "image/png": "[encoded data removed]",
      "text/plain": [
       "<Figure size 1800x720 with 2 Axes>"
      ]
     },
     "metadata": {},
     "output_type": "display_data"
    }
   ],
   "source": [
    "# Plotting missing values\n",
    "missingno.matrix(df)\n",
    "\n",
    "plt.show()"
   ]
  },
  {
   "cell_type": "markdown",
   "metadata": {},
   "source": [
    "Here we can see that there are some missing values in the city_avg_temp column.\n",
    "\n",
    "We will need to fill them, in order to calculate a more precise 7 periods moving average"
   ]
  },
  {
   "cell_type": "code",
   "execution_count": 205,
   "metadata": {},
   "outputs": [],
   "source": [
    "# Filling missing values with the mean for the column\n",
    "df['city_avg_temp'] = df['city_avg_temp'].fillna(df['city_avg_temp'].mean())"
   ]
  },
  {
   "cell_type": "code",
   "execution_count": 206,
   "metadata": {},
   "outputs": [
    {
     "data": {
      "image/png": "[encoded data removed]",
      "text/plain": [
       "<Figure size 1800x720 with 2 Axes>"
      ]
     },
     "metadata": {},
     "output_type": "display_data"
    }
   ],
   "source": [
    "# Checking if missing values were filled\n",
    "missingno.matrix(df)\n",
    "\n",
    "plt.show()"
   ]
  },
  {
   "cell_type": "markdown",
   "metadata": {},
   "source": [
    "Missing values have been filled"
   ]
  },
  {
   "cell_type": "code",
   "execution_count": 210,
   "metadata": {},
   "outputs": [],
   "source": [
    "# Calculating the 7 periods moving average for the city average temperature\n",
    "df['city_moving_avg'] = df['city_avg_temp'].rolling(7).mean()\n",
    "\n",
    "# Filling the first seven moving average values with the first moving average data point available\n",
    "df['city_moving_avg'] = df['city_moving_avg'].fillna(23.024286)"
   ]
  },
  {
   "cell_type": "code",
   "execution_count": 211,
   "metadata": {},
   "outputs": [],
   "source": [
    "# Calculating the 7 periods moving average for the world average temperature\n",
    "df['world_moving_avg'] = df['world_avg_temp'].rolling(7).mean()\n",
    "\n",
    "# Filling the first seven moving average values with the first moving average data point available\n",
    "df['world_moving_avg'] = df['world_avg_temp'].fillna(7.655714)"
   ]
  },
  {
   "cell_type": "markdown",
   "metadata": {},
   "source": [
    "## 4) Creating a Line Chart"
   ]
  },
  {
   "cell_type": "code",
   "execution_count": 212,
   "metadata": {},
   "outputs": [
    {
     "data": {
      "image/png": "[encoded data removed]",
      "text/plain": [
       "<Figure size 1080x360 with 1 Axes>"
      ]
     },
     "metadata": {},
     "output_type": "display_data"
    }
   ],
   "source": [
    "# Ploting the city and world moving averages together\n",
    "\n",
    "plt.figure(figsize=(15,5))\n",
    "\n",
    "sns.lineplot(data=df, x='year', y='world_moving_avg')\n",
    "sns.lineplot(data=df, x='year', y='city_moving_avg')\n",
    "\n",
    "plt.legend(labels=['World','Rio de Janeiro'], loc = 2, bbox_to_anchor = (1,1))\n",
    "\n",
    "plt.title('Rio de Janeiro x World Average Temperature')\n",
    "plt.ylabel('Average Temperature')\n",
    "plt.xlabel('Year')\n",
    "\n",
    "plt.show()"
   ]
  },
  {
   "cell_type": "markdown",
   "metadata": {},
   "source": [
    "### 4.1) Evaluate Correlation"
   ]
  },
  {
   "cell_type": "code",
   "execution_count": 172,
   "metadata": {},
   "outputs": [
    {
     "data": {
      "text/html": [
       "<div>\n",
       "<style scoped>\n",
       "    .dataframe tbody tr th:only-of-type {\n",
       "        vertical-align: middle;\n",
       "    }\n",
       "\n",
       "    .dataframe tbody tr th {\n",
       "        vertical-align: top;\n",
       "    }\n",
       "\n",
       "    .dataframe thead th {\n",
       "        text-align: right;\n",
       "    }\n",
       "</style>\n",
       "<table border=\"1\" class=\"dataframe\">\n",
       "  <thead>\n",
       "    <tr style=\"text-align: right;\">\n",
       "      <th></th>\n",
       "      <th>year</th>\n",
       "      <th>city_avg_temp</th>\n",
       "      <th>world_avg_temp</th>\n",
       "      <th>city_moving_avg</th>\n",
       "      <th>world_moving_avg</th>\n",
       "    </tr>\n",
       "  </thead>\n",
       "  <tbody>\n",
       "    <tr>\n",
       "      <th>count</th>\n",
       "      <td>182.000000</td>\n",
       "      <td>175.000000</td>\n",
       "      <td>182.000000</td>\n",
       "      <td>182.000000</td>\n",
       "      <td>182.000000</td>\n",
       "    </tr>\n",
       "    <tr>\n",
       "      <th>mean</th>\n",
       "      <td>1922.500000</td>\n",
       "      <td>23.791486</td>\n",
       "      <td>8.486374</td>\n",
       "      <td>23.714113</td>\n",
       "      <td>8.486374</td>\n",
       "    </tr>\n",
       "    <tr>\n",
       "      <th>std</th>\n",
       "      <td>52.683014</td>\n",
       "      <td>0.596963</td>\n",
       "      <td>0.496309</td>\n",
       "      <td>0.488551</td>\n",
       "      <td>0.496309</td>\n",
       "    </tr>\n",
       "    <tr>\n",
       "      <th>min</th>\n",
       "      <td>1832.000000</td>\n",
       "      <td>22.290000</td>\n",
       "      <td>7.380000</td>\n",
       "      <td>22.795714</td>\n",
       "      <td>7.380000</td>\n",
       "    </tr>\n",
       "    <tr>\n",
       "      <th>25%</th>\n",
       "      <td>1877.250000</td>\n",
       "      <td>23.370000</td>\n",
       "      <td>8.135000</td>\n",
       "      <td>23.410357</td>\n",
       "      <td>8.135000</td>\n",
       "    </tr>\n",
       "    <tr>\n",
       "      <th>50%</th>\n",
       "      <td>1922.500000</td>\n",
       "      <td>23.820000</td>\n",
       "      <td>8.485000</td>\n",
       "      <td>23.682857</td>\n",
       "      <td>8.485000</td>\n",
       "    </tr>\n",
       "    <tr>\n",
       "      <th>75%</th>\n",
       "      <td>1967.750000</td>\n",
       "      <td>24.210000</td>\n",
       "      <td>8.750000</td>\n",
       "      <td>24.043929</td>\n",
       "      <td>8.750000</td>\n",
       "    </tr>\n",
       "    <tr>\n",
       "      <th>max</th>\n",
       "      <td>2013.000000</td>\n",
       "      <td>25.190000</td>\n",
       "      <td>9.730000</td>\n",
       "      <td>24.778571</td>\n",
       "      <td>9.730000</td>\n",
       "    </tr>\n",
       "  </tbody>\n",
       "</table>\n",
       "</div>"
      ],
      "text/plain": [
       "              year  city_avg_temp  world_avg_temp  city_moving_avg  \\\n",
       "count   182.000000     175.000000      182.000000       182.000000   \n",
       "mean   1922.500000      23.791486        8.486374        23.714113   \n",
       "std      52.683014       0.596963        0.496309         0.488551   \n",
       "min    1832.000000      22.290000        7.380000        22.795714   \n",
       "25%    1877.250000      23.370000        8.135000        23.410357   \n",
       "50%    1922.500000      23.820000        8.485000        23.682857   \n",
       "75%    1967.750000      24.210000        8.750000        24.043929   \n",
       "max    2013.000000      25.190000        9.730000        24.778571   \n",
       "\n",
       "       world_moving_avg  \n",
       "count        182.000000  \n",
       "mean           8.486374  \n",
       "std            0.496309  \n",
       "min            7.380000  \n",
       "25%            8.135000  \n",
       "50%            8.485000  \n",
       "75%            8.750000  \n",
       "max            9.730000  "
      ]
     },
     "execution_count": 172,
     "metadata": {},
     "output_type": "execute_result"
    }
   ],
   "source": [
    "df.describe()"
   ]
  },
  {
   "cell_type": "code",
   "execution_count": 213,
   "metadata": {},
   "outputs": [
    {
     "data": {
      "image/png": "[encoded data removed]",
      "text/plain": [
       "<Figure size 1440x360 with 1 Axes>"
      ]
     },
     "metadata": {},
     "output_type": "display_data"
    }
   ],
   "source": [
    "# Plotting distribution\n",
    "plt.figure(figsize=(20,5))\n",
    "sns.histplot(data=df, x='world_avg_temp', stat='density')\n",
    "sns.histplot(data=df, x='city_avg_temp', stat='density', color='red')\n",
    "\n",
    "plt.legend(labels=['World','Rio de Janeiro'], loc='center', prop={'size': 20})\n",
    "\n",
    "plt.title('World and City Temperature Distribution')\n",
    "plt.xlabel('')\n",
    "\n",
    "\n",
    "plt.show()"
   ]
  },
  {
   "cell_type": "code",
   "execution_count": 215,
   "metadata": {},
   "outputs": [
    {
     "data": {
      "image/png": "[encoded data removed]",
      "text/plain": [
       "<Figure size 720x360 with 1 Axes>"
      ]
     },
     "metadata": {},
     "output_type": "display_data"
    }
   ],
   "source": [
    "# Visualizing Correlation\n",
    "\n",
    "plt.figure(figsize=(10,5))\n",
    "\n",
    "sns.scatterplot(x=df['world_avg_temp'], y=df['city_avg_temp'])\n",
    "\n",
    "plt.title('City x World Average Temperature')\n",
    "plt.ylabel('City Avg Temp')\n",
    "plt.xlabel('City Avg Temp')\n",
    "\n",
    "\n",
    "plt.show()"
   ]
  },
  {
   "cell_type": "code",
   "execution_count": 216,
   "metadata": {},
   "outputs": [
    {
     "name": "stdout",
     "output_type": "stream",
     "text": [
      "Pearsons correlation: 0.779\n"
     ]
    }
   ],
   "source": [
    "# Calculating Persons Correlation\n",
    "\n",
    "from scipy.stats import pearsonr\n",
    "corr, _ = pearsonr(df['world_avg_temp'], df['city_avg_temp'])\n",
    "print('Pearsons correlation: %.3f' % corr)"
   ]
  },
  {
   "cell_type": "markdown",
   "metadata": {},
   "source": [
    "## 5) Observations"
   ]
  },
  {
   "cell_type": "markdown",
   "metadata": {},
   "source": [
    "### 5.1) About the trend:"
   ]
  },
  {
   "cell_type": "markdown",
   "metadata": {},
   "source": [
    "* Data shows that Rio de Janeiro is hotter on average, compared to the global average.\n",
    "* This difference has been consistent over time.\n",
    "* The overall trend is a constant increase in temperature over the years for both the world and the Rio de Janeiro city.\n"
   ]
  },
  {
   "cell_type": "markdown",
   "metadata": {},
   "source": [
    "### 5.2) About the distribution"
   ]
  },
  {
   "cell_type": "markdown",
   "metadata": {},
   "source": [
    "* Both the city and the world average temperature follows a Gaussian-like distribution.\n",
    "* This means we can use Pearsons Correlation to evaluate the correlation between these two variables (next item).\n",
    "* City average temperature is more spread out (std: 0.59) than the world's average temperature (std: 0.49).\n",
    "* We can see by the line chart and by the histogram that there are no overlaps between both datasets. "
   ]
  },
  {
   "cell_type": "markdown",
   "metadata": {},
   "source": [
    "### 5.3) About the correlation:"
   ]
  },
  {
   "cell_type": "markdown",
   "metadata": {},
   "source": [
    "* Pearson's Correlation for these two variables is 0.779 .\n",
    "* This means that there is a notable positive correlation (above 0.5)."
   ]
  },
  {
   "cell_type": "markdown",
   "metadata": {},
   "source": [
    "## References:\n",
    "    \n",
    "https://machinelearningmastery.com/how-to-use-correlation-to-understand-the-relationship-between-variables/"
   ]
  }
 ],
 "metadata": {
  "kernelspec": {
   "display_name": "Python 3",
   "language": "python",
   "name": "python3"
  },
  "language_info": {
   "codemirror_mode": {
    "name": "ipython",
    "version": 3
   },
   "file_extension": ".py",
   "mimetype": "text/x-python",
   "name": "python",
   "nbconvert_exporter": "python",
   "pygments_lexer": "ipython3",
   "version": "3.8.5"
  }
 },
 "nbformat": 4,
 "nbformat_minor": 4
}
